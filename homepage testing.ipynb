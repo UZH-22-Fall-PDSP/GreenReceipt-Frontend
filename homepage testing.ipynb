{
 "cells": [
  {
   "cell_type": "code",
   "execution_count": 4,
   "metadata": {},
   "outputs": [],
   "source": [
    "from multiprocessing.sharedctypes import Value\n",
    "import dash\n",
    "import pandas as pd\n",
    "import plotly.express as px\n",
    "from dash import dash, html, dcc, Input, Output, State\n",
    "from dash.dependencies import Input, Output\n",
    "import requests"
   ]
  },
  {
   "cell_type": "code",
   "execution_count": 13,
   "metadata": {},
   "outputs": [
    {
     "name": "stdout",
     "output_type": "stream",
     "text": [
      "Collecting dash_labs\n",
      "  Downloading dash_labs-1.2.0-py3-none-any.whl (26 kB)\n",
      "Requirement already satisfied: itsdangerous>=2.0.1 in /Library/Frameworks/Python.framework/Versions/3.10/lib/python3.10/site-packages (from dash_labs) (2.1.2)\n",
      "Collecting appdirs>=1.4.4\n",
      "  Downloading appdirs-1.4.4-py2.py3-none-any.whl (9.6 kB)\n",
      "Installing collected packages: appdirs, dash-labs\n",
      "Successfully installed appdirs-1.4.4 dash-labs-1.2.0\n",
      "\u001b[33mWARNING: You are using pip version 21.2.3; however, version 22.3 is available.\n",
      "You should consider upgrading via the '/usr/local/bin/python3 -m pip install --upgrade pip' command.\u001b[0m\n",
      "Note: you may need to restart the kernel to use updated packages.\n"
     ]
    }
   ],
   "source": [
    "pip install dash_labs"
   ]
  },
  {
   "cell_type": "code",
   "execution_count": 14,
   "metadata": {},
   "outputs": [],
   "source": [
    "from dash_labs.plugins.pages import register_page"
   ]
  },
  {
   "cell_type": "markdown",
   "metadata": {},
   "source": [
    "Home page "
   ]
  },
  {
   "cell_type": "code",
   "execution_count": 33,
   "metadata": {},
   "outputs": [],
   "source": [
    "home_img='https://github.com/UZH-22-Fall-PDSP/GreenRecipe-Frontend/blob/main/assets/Background%20(1).jpg?raw=true'\n",
    "calculator_img='https://github.com/Yian-anan/Prototyping-/blob/main/Quality+Ingredients.jpeg?raw=true'\n",
    "result_img='https://github.com/Yian-anan/Prototyping-/blob/main/carbonfeat.png?raw=true'"
   ]
  },
  {
   "cell_type": "code",
   "execution_count": 1,
   "metadata": {},
   "outputs": [],
   "source": [
    "page1= \"https://blog.giki.earth/wp-content/uploads/2020/02/sweet-potato-tomato-stew-1.jpg\""
   ]
  },
  {
   "cell_type": "code",
   "execution_count": 10,
   "metadata": {},
   "outputs": [
    {
     "ename": "NameError",
     "evalue": "name 'register_page' is not defined",
     "output_type": "error",
     "traceback": [
      "\u001b[0;31m---------------------------------------------------------------------------\u001b[0m",
      "\u001b[0;31mNameError\u001b[0m                                 Traceback (most recent call last)",
      "Cell \u001b[0;32mIn [10], line 1\u001b[0m\n\u001b[0;32m----> 1\u001b[0m register_page(\u001b[39m__name__\u001b[39m,path\u001b[39m=\u001b[39m\u001b[39m'\u001b[39m\u001b[39m/\u001b[39m\u001b[39m'\u001b[39m)\n\u001b[1;32m      3\u001b[0m layout \u001b[39m=\u001b[39m html\u001b[39m.\u001b[39mDiv(style\u001b[39m=\u001b[39m{\n\u001b[1;32m      4\u001b[0m background\u001b[39m-\u001b[39mimage: \u001b[39m'\u001b[39m\u001b[39murl(home_img)\u001b[39m\u001b[39m'\u001b[39m\n\u001b[1;32m      5\u001b[0m },children \u001b[39m=\u001b[39m[\n\u001b[0;32m   (...)\u001b[0m\n\u001b[1;32m     13\u001b[0m                  \u001b[39m\"\u001b[39m\u001b[39mwidth\u001b[39m\u001b[39m\"\u001b[39m:\u001b[39m350\u001b[39m, \u001b[39m\"\u001b[39m\u001b[39mheight\u001b[39m\u001b[39m\"\u001b[39m : \u001b[39m70\u001b[39m, \u001b[39m\"\u001b[39m\u001b[39mborder-radius\u001b[39m\u001b[39m\"\u001b[39m:\u001b[39m20\u001b[39m, \n\u001b[1;32m     14\u001b[0m                  \u001b[39m\"\u001b[39m\u001b[39mfont-size\u001b[39m\u001b[39m\"\u001b[39m:\u001b[39m35\u001b[39m, \u001b[39m\"\u001b[39m\u001b[39mbackground\u001b[39m\u001b[39m\"\u001b[39m: \u001b[39m\"\u001b[39m\u001b[39m#DBE9D7\u001b[39m\u001b[39m\"\u001b[39m})])\n",
      "\u001b[0;31mNameError\u001b[0m: name 'register_page' is not defined"
     ]
    }
   ],
   "source": [
    "register_page(__name__,path='/')\n",
    "\n",
    "layout = html.Div(style={\n",
    "background-image: 'url(home_img)'\n",
    "},children =[\n",
    "    html.H1(\"Green Recipe\"),\n",
    "    html.H2(\"Try your recipre CO2 Calculator\"),\n",
    "    html.H3(\"Quickly and easily get sustainable scores! of your recipe!\"),\n",
    "    html.H4(\"Your effort can help improve the world environment!\"),\n",
    "\n",
    "    html.Button('START', id='calculate-button', \n",
    "                 n_clicks=0, style={\"text-align\": \"center\", \n",
    "                 \"width\":350, \"height\" : 70, \"border-radius\":20, \n",
    "                 \"font-size\":35, \"background\": \"#DBE9D7\"})])\n",
    "\n"
   ]
  },
  {
   "cell_type": "code",
   "execution_count": null,
   "metadata": {},
   "outputs": [],
   "source": []
  },
  {
   "cell_type": "code",
   "execution_count": 3,
   "metadata": {},
   "outputs": [
    {
     "ename": "NameError",
     "evalue": "name 'dash' is not defined",
     "output_type": "error",
     "traceback": [
      "\u001b[0;31m---------------------------------------------------------------------------\u001b[0m",
      "\u001b[0;31mNameError\u001b[0m                                 Traceback (most recent call last)",
      "Cell \u001b[0;32mIn [3], line 1\u001b[0m\n\u001b[0;32m----> 1\u001b[0m app \u001b[39m=\u001b[39m dash\u001b[39m.\u001b[39mDash(\u001b[39m__name__\u001b[39m, assets_folder\u001b[39m=\u001b[39m\u001b[39m\"\u001b[39m\u001b[39massets\u001b[39m\u001b[39m\"\u001b[39m)\n\u001b[1;32m      3\u001b[0m app\u001b[39m.\u001b[39mlayout \u001b[39m=\u001b[39m html\u001b[39m.\u001b[39mDiv(style\u001b[39m=\u001b[39m{\n\u001b[1;32m      4\u001b[0m \u001b[39m'\u001b[39m\u001b[39mbackground-image\u001b[39m\u001b[39m'\u001b[39m: \u001b[39m'\u001b[39m\u001b[39murl(home_img)\u001b[39m\u001b[39m'\u001b[39m\n\u001b[1;32m      5\u001b[0m },children \u001b[39m=\u001b[39m[\n\u001b[0;32m   (...)\u001b[0m\n\u001b[1;32m     16\u001b[0m                  \u001b[39m\"\u001b[39m\u001b[39mwidth\u001b[39m\u001b[39m\"\u001b[39m:\u001b[39m350\u001b[39m, \u001b[39m\"\u001b[39m\u001b[39mheight\u001b[39m\u001b[39m\"\u001b[39m : \u001b[39m70\u001b[39m, \u001b[39m\"\u001b[39m\u001b[39mborder-radius\u001b[39m\u001b[39m\"\u001b[39m:\u001b[39m20\u001b[39m, \n\u001b[1;32m     17\u001b[0m                  \u001b[39m\"\u001b[39m\u001b[39mfont-size\u001b[39m\u001b[39m\"\u001b[39m:\u001b[39m35\u001b[39m, \u001b[39m\"\u001b[39m\u001b[39mbackground\u001b[39m\u001b[39m\"\u001b[39m: \u001b[39m\"\u001b[39m\u001b[39m#DBE9D7\u001b[39m\u001b[39m\"\u001b[39m})])\n\u001b[1;32m     22\u001b[0m \u001b[39mif\u001b[39;00m \u001b[39m__name__\u001b[39m \u001b[39m==\u001b[39m \u001b[39m'\u001b[39m\u001b[39m__main__\u001b[39m\u001b[39m'\u001b[39m:\n",
      "\u001b[0;31mNameError\u001b[0m: name 'dash' is not defined"
     ]
    }
   ],
   "source": [
    "app = dash.Dash(__name__, assets_folder=\"assets\")\n",
    "\n",
    "app.layout = html.Div(style={\n",
    "'background-image': 'url(home_img)'\n",
    "},children =[\n",
    "    html.Img(src=page1),\n",
    "    html.H1(\"Green Recipe\"),\n",
    "    html.H2(\"Try your recipre CO2 Calculator\"),\n",
    "    html.Br(),\n",
    "    html.H3(\"Quickly and easily get sustainable scores of your recipe!\",style={'font':'30px'}),\n",
    "    html.H4(\"Your effort can help improve the world environment!\",style={'font':'30px'}),\n",
    "    html.Br(),\n",
    "    html.Br(),\n",
    "    html.Button('START', id='Home_startbutton', \n",
    "                 n_clicks=0, style={\"text-align\": \"center\", \n",
    "                 \"width\":350, \"height\" : 70, \"border-radius\":20, \n",
    "                 \"font-size\":35, \"background\": \"#DBE9D7\"})])\n",
    "\n",
    "\n",
    "\n",
    "\n",
    "if __name__ == '__main__':\n",
    "     app.run_server(port=8158,debug=False)"
   ]
  }
 ],
 "metadata": {
  "kernelspec": {
   "display_name": "Python 3.10.0 64-bit",
   "language": "python",
   "name": "python3"
  },
  "language_info": {
   "codemirror_mode": {
    "name": "ipython",
    "version": 3
   },
   "file_extension": ".py",
   "mimetype": "text/x-python",
   "name": "python",
   "nbconvert_exporter": "python",
   "pygments_lexer": "ipython3",
   "version": "3.10.0"
  },
  "orig_nbformat": 4,
  "vscode": {
   "interpreter": {
    "hash": "aee8b7b246df8f9039afb4144a1f6fd8d2ca17a180786b69acc140d282b71a49"
   }
  }
 },
 "nbformat": 4,
 "nbformat_minor": 2
}
