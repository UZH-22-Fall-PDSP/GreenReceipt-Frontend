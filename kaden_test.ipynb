{
 "cells": [
  {
   "cell_type": "code",
   "execution_count": 1,
   "metadata": {},
   "outputs": [],
   "source": [
    "import plotly.express as px\n",
    "data_canada = px.data.gapminder().query(\"country == 'Canada'\")"
   ]
  },
  {
   "cell_type": "code",
   "execution_count": 2,
   "metadata": {},
   "outputs": [
    {
     "name": "stdout",
     "output_type": "stream",
     "text": [
      "    country continent  year  lifeExp       pop    gdpPercap iso_alpha  iso_num\n",
      "240  Canada  Americas  1952   68.750  14785584  11367.16112       CAN      124\n",
      "241  Canada  Americas  1957   69.960  17010154  12489.95006       CAN      124\n",
      "242  Canada  Americas  1962   71.300  18985849  13462.48555       CAN      124\n",
      "243  Canada  Americas  1967   72.130  20819767  16076.58803       CAN      124\n",
      "244  Canada  Americas  1972   72.880  22284500  18970.57086       CAN      124\n",
      "245  Canada  Americas  1977   74.210  23796400  22090.88306       CAN      124\n",
      "246  Canada  Americas  1982   75.760  25201900  22898.79214       CAN      124\n",
      "247  Canada  Americas  1987   76.860  26549700  26626.51503       CAN      124\n",
      "248  Canada  Americas  1992   77.950  28523502  26342.88426       CAN      124\n",
      "249  Canada  Americas  1997   78.610  30305843  28954.92589       CAN      124\n",
      "250  Canada  Americas  2002   79.770  31902268  33328.96507       CAN      124\n",
      "251  Canada  Americas  2007   80.653  33390141  36319.23501       CAN      124\n"
     ]
    }
   ],
   "source": [
    "print(data_canada)"
   ]
  },
  {
   "cell_type": "code",
   "execution_count": 3,
   "metadata": {},
   "outputs": [
    {
     "name": "stdout",
     "output_type": "stream",
     "text": [
      "<class 'pandas.core.frame.DataFrame'>\n"
     ]
    }
   ],
   "source": [
    "print(type(data_canada))"
   ]
  },
  {
   "cell_type": "code",
   "execution_count": null,
   "metadata": {},
   "outputs": [],
   "source": []
  }
 ],
 "metadata": {
  "kernelspec": {
   "display_name": "Python 3.9.1 64-bit",
   "language": "python",
   "name": "python3"
  },
  "language_info": {
   "codemirror_mode": {
    "name": "ipython",
    "version": 3
   },
   "file_extension": ".py",
   "mimetype": "text/x-python",
   "name": "python",
   "nbconvert_exporter": "python",
   "pygments_lexer": "ipython3",
   "version": "3.9.1"
  },
  "orig_nbformat": 4,
  "vscode": {
   "interpreter": {
    "hash": "aee8b7b246df8f9039afb4144a1f6fd8d2ca17a180786b69acc140d282b71a49"
   }
  }
 },
 "nbformat": 4,
 "nbformat_minor": 2
}
