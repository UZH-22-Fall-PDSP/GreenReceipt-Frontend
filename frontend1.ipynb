{
 "cells": [
  {
   "cell_type": "code",
   "execution_count": 4,
   "metadata": {},
   "outputs": [
    {
     "name": "stdout",
     "output_type": "stream",
     "text": [
      "Collecting requests\n",
      "  Downloading requests-2.28.1-py3-none-any.whl (62 kB)\n",
      "\u001b[K     |████████████████████████████████| 62 kB 1.1 MB/s eta 0:00:011\n",
      "\u001b[?25hCollecting urllib3<1.27,>=1.21.1\n",
      "  Downloading urllib3-1.26.12-py2.py3-none-any.whl (140 kB)\n",
      "\u001b[K     |████████████████████████████████| 140 kB 4.2 MB/s eta 0:00:01\n",
      "\u001b[?25hCollecting certifi>=2017.4.17\n",
      "  Downloading certifi-2022.9.24-py3-none-any.whl (161 kB)\n",
      "\u001b[K     |████████████████████████████████| 161 kB 13.4 MB/s eta 0:00:01\n",
      "\u001b[?25hCollecting charset-normalizer<3,>=2\n",
      "  Downloading charset_normalizer-2.1.1-py3-none-any.whl (39 kB)\n",
      "Requirement already satisfied: idna<4,>=2.5 in /Users/yiangong/Library/Python/3.10/lib/python/site-packages (from requests) (3.4)\n",
      "Installing collected packages: urllib3, charset-normalizer, certifi, requests\n",
      "Successfully installed certifi-2022.9.24 charset-normalizer-2.1.1 requests-2.28.1 urllib3-1.26.12\n",
      "\u001b[33mWARNING: You are using pip version 21.2.3; however, version 22.3 is available.\n",
      "You should consider upgrading via the '/usr/local/bin/python3 -m pip install --upgrade pip' command.\u001b[0m\n",
      "Note: you may need to restart the kernel to use updated packages.\n"
     ]
    }
   ],
   "source": [
    "pip install requests "
   ]
  },
  {
   "cell_type": "code",
   "execution_count": 6,
   "metadata": {},
   "outputs": [
    {
     "name": "stdout",
     "output_type": "stream",
     "text": [
      "Requirement already satisfied: numpy in /Library/Frameworks/Python.framework/Versions/3.10/lib/python3.10/site-packages (1.23.4)\n",
      "\u001b[33mWARNING: You are using pip version 21.2.3; however, version 22.3 is available.\n",
      "You should consider upgrading via the '/usr/local/bin/python3 -m pip install --upgrade pip' command.\u001b[0m\n",
      "Note: you may need to restart the kernel to use updated packages.\n"
     ]
    }
   ],
   "source": [
    "pip install numpy"
   ]
  },
  {
   "cell_type": "code",
   "execution_count": null,
   "metadata": {},
   "outputs": [
    {
     "name": "stdout",
     "output_type": "stream",
     "text": [
      "Requirement already satisfied: pandas in /Library/Frameworks/Python.framework/Versions/3.10/lib/python3.10/site-packages (1.5.1)\n",
      "Requirement already satisfied: numpy>=1.21.0 in /Library/Frameworks/Python.framework/Versions/3.10/lib/python3.10/site-packages (from pandas) (1.23.4)\n",
      "Requirement already satisfied: pytz>=2020.1 in /Library/Frameworks/Python.framework/Versions/3.10/lib/python3.10/site-packages (from pandas) (2022.5)\n",
      "Requirement already satisfied: python-dateutil>=2.8.1 in /Users/yiangong/Library/Python/3.10/lib/python/site-packages (from pandas) (2.8.2)\n",
      "Requirement already satisfied: six>=1.5 in /Users/yiangong/Library/Python/3.10/lib/python/site-packages (from python-dateutil>=2.8.1->pandas) (1.16.0)\n",
      "\u001b[33mWARNING: You are using pip version 21.2.3; however, version 22.3 is available.\n",
      "You should consider upgrading via the '/usr/local/bin/python3 -m pip install --upgrade pip' command.\u001b[0m\n",
      "Note: you may need to restart the kernel to use updated packages.\n"
     ]
    }
   ],
   "source": [
    "pip install pandas"
   ]
  },
  {
   "cell_type": "code",
   "execution_count": 2,
   "metadata": {},
   "outputs": [
    {
     "name": "stdout",
     "output_type": "stream",
     "text": [
      "Dash is running on http://127.0.0.1:8057/\n",
      "\n",
      "Dash is running on http://127.0.0.1:8057/\n",
      "\n",
      " * Serving Flask app '__main__'\n",
      " * Debug mode: off\n"
     ]
    },
    {
     "name": "stderr",
     "output_type": "stream",
     "text": [
      "\u001b[31m\u001b[1mWARNING: This is a development server. Do not use it in a production deployment. Use a production WSGI server instead.\u001b[0m\n",
      " * Running on http://127.0.0.1:8057\n",
      "\u001b[33mPress CTRL+C to quit\u001b[0m\n",
      "127.0.0.1 - - [26/Oct/2022 13:11:02] \"GET / HTTP/1.1\" 200 -\n",
      "127.0.0.1 - - [26/Oct/2022 13:11:02] \"GET /_dash-component-suites/dash/deps/polyfill@7.v2_6_2m1666726038.12.1.min.js HTTP/1.1\" 200 -\n",
      "127.0.0.1 - - [26/Oct/2022 13:11:02] \"GET /_dash-component-suites/dash/deps/react@16.v2_6_2m1666726038.14.0.min.js HTTP/1.1\" 200 -\n",
      "127.0.0.1 - - [26/Oct/2022 13:11:02] \"GET /_dash-component-suites/dash/deps/react-dom@16.v2_6_2m1666726038.14.0.min.js HTTP/1.1\" 200 -\n",
      "127.0.0.1 - - [26/Oct/2022 13:11:02] \"GET /_dash-component-suites/dash/dash-renderer/build/dash_renderer.v2_6_2m1666726038.min.js HTTP/1.1\" 200 -\n",
      "127.0.0.1 - - [26/Oct/2022 13:11:02] \"GET /_dash-component-suites/dash/deps/prop-types@15.v2_6_2m1666726038.8.1.min.js HTTP/1.1\" 200 -\n",
      "127.0.0.1 - - [26/Oct/2022 13:11:02] \"GET /_dash-component-suites/dash/dcc/dash_core_components.v2_6_2m1666726038.js HTTP/1.1\" 200 -\n",
      "127.0.0.1 - - [26/Oct/2022 13:11:02] \"GET /_dash-component-suites/dash/dcc/dash_core_components-shared.v2_6_2m1666726038.js HTTP/1.1\" 200 -\n",
      "127.0.0.1 - - [26/Oct/2022 13:11:02] \"GET /_dash-component-suites/dash/html/dash_html_components.v2_0_5m1666726038.min.js HTTP/1.1\" 200 -\n",
      "127.0.0.1 - - [26/Oct/2022 13:11:02] \"GET /_dash-component-suites/dash/dash_table/bundle.v5_1_6m1666726038.js HTTP/1.1\" 200 -\n",
      "127.0.0.1 - - [26/Oct/2022 13:11:02] \"GET /_dash-layout HTTP/1.1\" 200 -\n",
      "127.0.0.1 - - [26/Oct/2022 13:11:02] \"GET /_dash-dependencies HTTP/1.1\" 200 -\n",
      "127.0.0.1 - - [26/Oct/2022 13:11:02] \"GET /_favicon.ico?v=2.6.2 HTTP/1.1\" 200 -\n",
      "127.0.0.1 - - [26/Oct/2022 13:11:02] \"GET /_favicon.ico?v=2.6.2 HTTP/1.1\" 200 -\n"
     ]
    }
   ],
   "source": [
    "import dash\n",
    "from dash import dash, html, dcc\n",
    "from dash.dependencies import Input, Output\n",
    "import requests\n",
    "\n",
    "app = dash.Dash()\n",
    "\n",
    "\n",
    "app.layout = html.Div([\n",
    "    html.H1(\"Enter your recipe here:\"),\n",
    "    dcc.Input(\n",
    "        id='recipelink',\n",
    "        placeholder='Insert website value',\n",
    "        type='text',\n",
    "    ),\n",
    "    html.Br(),\n",
    "    html.Br(),\n",
    "    html.H2(\"Enter the ingredients of your recipe here:\"),\n",
    "    dcc.Input(\n",
    "        id='ingredientname',\n",
    "        placeholder='Insert ingredient name',\n",
    "        type='text',\n",
    "        value='potato',\n",
    "    ),\n",
    "    dcc.Input(\n",
    "        id='quantity',\n",
    "        placeholder='Insert ingredient quantity',\n",
    "        type='int',\n",
    "        value='2',\n",
    "    ),\n",
    "    html.Br(),\n",
    "    html.Br(),\n",
    "    html.Div(id='result')\n",
    "    ])\n",
    "\n",
    "\n",
    "@app.callback(\n",
    "    Output('result', 'children'),\n",
    "    [Input('input-num1', 'value'),\n",
    "     Input('input-num2', 'value')]\n",
    ")\n",
    "\n",
    "def update_result(num1, num2):\n",
    "    sum_arguments = {'x': num1, 'y': num2}\n",
    "    url ='http://35.233.118.56:5000/get_sum'\n",
    "    response = requests.get(url = url,  params=sum_arguments)\n",
    "    print(response.url)\n",
    "    print(response.json())\n",
    "    return \"The sum is: {}\".format(response.json())\n",
    "\n",
    "if __name__ == '__main__':\n",
    "     app.run_server(debug=False, port=8057)"
   ]
  },
  {
   "cell_type": "code",
   "execution_count": 18,
   "metadata": {},
   "outputs": [
    {
     "name": "stdout",
     "output_type": "stream",
     "text": [
      "margarita-jell-o-shot-skulls-542166\n"
     ]
    }
   ],
   "source": [
    "url = 'https://www.food.com/recipe/margarita-jell-o-shot-skulls-542166?units=metric&scale=12'\n",
    "# url = 'https://www.food.com/recipe/margarita-jell-o-shot-skulls-542166'\n",
    "\n",
    "\n",
    "EXPECTED_RECIPE_PAGE = 'food.com/recipe/'\n",
    "url.index(EXPECTED_RECIPE_PAGE) # Exception will be occurred if there is no EXPECTED_RECIPE_PAGE\n",
    "url = url.split('?')[0]\n",
    "url = url.split('/')[-1]\n",
    "\n",
    "print(url)"
   ]
  },
  {
   "cell_type": "code",
   "execution_count": null,
   "metadata": {},
   "outputs": [],
   "source": []
  }
 ],
 "metadata": {
  "kernelspec": {
   "display_name": "Python 3.10.0 64-bit",
   "language": "python",
   "name": "python3"
  },
  "language_info": {
   "codemirror_mode": {
    "name": "ipython",
    "version": 3
   },
   "file_extension": ".py",
   "mimetype": "text/x-python",
   "name": "python",
   "nbconvert_exporter": "python",
   "pygments_lexer": "ipython3",
   "version": "3.9.1"
  },
  "orig_nbformat": 4,
  "vscode": {
   "interpreter": {
    "hash": "aee8b7b246df8f9039afb4144a1f6fd8d2ca17a180786b69acc140d282b71a49"
   }
  }
 },
 "nbformat": 4,
 "nbformat_minor": 2
}
